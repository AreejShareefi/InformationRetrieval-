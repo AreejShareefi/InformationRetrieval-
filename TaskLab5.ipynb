{
  "nbformat": 4,
  "nbformat_minor": 0,
  "metadata": {
    "colab": {
      "provenance": [],
      "collapsed_sections": [],
      "authorship_tag": "ABX9TyP74Z6/fWPnvJLbBaZ3lRy3",
      "include_colab_link": true
    },
    "kernelspec": {
      "name": "python3",
      "display_name": "Python 3"
    },
    "language_info": {
      "name": "python"
    }
  },
  "cells": [
    {
      "cell_type": "markdown",
      "metadata": {
        "id": "view-in-github",
        "colab_type": "text"
      },
      "source": [
        "<a href=\"https://colab.research.google.com/github/AreejShareefi/InformationRetrieval-/blob/main/TaskLab5.ipynb\" target=\"_parent\"><img src=\"https://colab.research.google.com/assets/colab-badge.svg\" alt=\"Open In Colab\"/></a>"
      ]
    },
    {
      "cell_type": "code",
      "execution_count": null,
      "metadata": {
        "colab": {
          "base_uri": "https://localhost:8080/"
        },
        "id": "yr_bdAeNEvS5",
        "outputId": "53f48942-96d9-42dc-d802-2338f900dddf"
      },
      "outputs": [
        {
          "output_type": "stream",
          "name": "stdout",
          "text": [
            "Looking in indexes: https://pypi.org/simple, https://us-python.pkg.dev/colab-wheels/public/simple/\n",
            "Requirement already satisfied: nltk in /usr/local/lib/python3.7/dist-packages (3.7)\n",
            "Requirement already satisfied: regex>=2021.8.3 in /usr/local/lib/python3.7/dist-packages (from nltk) (2022.6.2)\n",
            "Requirement already satisfied: joblib in /usr/local/lib/python3.7/dist-packages (from nltk) (1.2.0)\n",
            "Requirement already satisfied: click in /usr/local/lib/python3.7/dist-packages (from nltk) (7.1.2)\n",
            "Requirement already satisfied: tqdm in /usr/local/lib/python3.7/dist-packages (from nltk) (4.64.1)\n"
          ]
        }
      ],
      "source": [
        "!pip install nltk"
      ]
    },
    {
      "cell_type": "code",
      "source": [
        "from __future__ import print_function\n",
        "from nltk.metrics import *\n",
        "file1 = open(\"f1.txt\", \"r\")\n",
        "file2 = open(\"f2.txt\", \"r\")\n",
        "fl1=file1.read()\n",
        "fl2=file2.read()\n",
        "f1=fl1.split()\n",
        "f2=fl2.split()\n",
        "\n",
        "print(\"the files:\\n file1= \"+fl1+\"\\n file2= \"+fl2)\n",
        "\n",
        "print(accuracy(f1,f2))\n",
        "setf1=set(f1)\n",
        "setf2=set(f2)\n",
        "\n",
        "precision=precision(setf1,setf2)\n",
        "recall=recall(setf1,setf2)\n",
        "\n",
        "print('precision = ',precision)\n",
        "print('recall = ',recall)\n",
        "\n",
        "f_measure=(2*precision*recall) / (precision+recall)\n",
        "print('f_measure = ',f_measure)\n"
      ],
      "metadata": {
        "id": "4PMFoBw_E5v1",
        "colab": {
          "base_uri": "https://localhost:8080/"
        },
        "outputId": "7c524d2e-b7c1-4ce9-f76d-208a26bba0df"
      },
      "execution_count": 16,
      "outputs": [
        {
          "output_type": "stream",
          "name": "stdout",
          "text": [
            "the files:\n",
            " file1= short story in Maimana lived Abdulwahab the son of a villager and a man who decided that he should follow the precept of the  Wise  where  they  have  said Service  is  superior  to  advice  but action is better than anything Abdulwahab heard  continue  paying  the  heavy  taxes  demanded  by their  Khan that the great dam upon the hill which supplied water for their valley would one day collapse and they badly needed a new mosque\n",
            " file2= brief and short story Abdul Wahab a resident of Maimana and the son of a villager made the decision to abide by the Wise People's maxim Service is preferable to advise but action is greater than everything Abdul Wahab overheard the villagers lamenting their inability to continue paying the high taxes requested by their Khan the impending collapse of the huge dam supplying their valley with water and the urgent need for a new mosque\n",
            "0.05333333333333334\n",
            "precision =  0.5370370370370371\n",
            "recall =  0.47540983606557374\n",
            "f_measure =  0.5043478260869565\n"
          ]
        }
      ]
    },
    {
      "cell_type": "code",
      "source": [
        "from sklearn.metrics import classification_report \n",
        "\n",
        "print(classification_report(f1,f2))"
      ],
      "metadata": {
        "colab": {
          "base_uri": "https://localhost:8080/"
        },
        "id": "4C39v0DbTgof",
        "outputId": "d3e1c1f7-dbd9-4cbe-b004-c5e1ffc5d2b8"
      },
      "execution_count": 17,
      "outputs": [
        {
          "output_type": "stream",
          "name": "stdout",
          "text": [
            "              precision    recall  f1-score   support\n",
            "\n",
            "       Abdul       0.00      0.00      0.00         0\n",
            "  Abdulwahab       0.00      0.00      0.00         2\n",
            "        Khan       0.00      0.00      0.00         1\n",
            "     Maimana       0.00      0.00      0.00         1\n",
            "    People's       0.00      0.00      0.00         0\n",
            "     Service       0.00      0.00      0.00         1\n",
            "       Wahab       0.00      0.00      0.00         0\n",
            "        Wise       0.00      0.00      0.00         1\n",
            "           a       0.33      0.33      0.33         3\n",
            "       abide       0.00      0.00      0.00         0\n",
            "      action       0.00      0.00      0.00         1\n",
            "      advice       0.00      0.00      0.00         1\n",
            "      advise       0.00      0.00      0.00         0\n",
            "         and       0.00      0.00      0.00         2\n",
            "    anything       0.00      0.00      0.00         1\n",
            "       badly       0.00      0.00      0.00         1\n",
            "      better       0.00      0.00      0.00         1\n",
            "       brief       0.00      0.00      0.00         0\n",
            "         but       0.00      0.00      0.00         1\n",
            "          by       0.00      0.00      0.00         1\n",
            "    collapse       0.00      0.00      0.00         1\n",
            "    continue       0.00      0.00      0.00         1\n",
            "         dam       0.00      0.00      0.00         1\n",
            "         day       0.00      0.00      0.00         1\n",
            "     decided       0.00      0.00      0.00         1\n",
            "    decision       0.00      0.00      0.00         0\n",
            "    demanded       0.00      0.00      0.00         1\n",
            "  everything       0.00      0.00      0.00         0\n",
            "      follow       0.00      0.00      0.00         1\n",
            "         for       0.00      0.00      0.00         1\n",
            "       great       0.00      0.00      0.00         1\n",
            "     greater       0.00      0.00      0.00         0\n",
            "        have       0.00      0.00      0.00         1\n",
            "          he       0.00      0.00      0.00         1\n",
            "       heard       0.00      0.00      0.00         1\n",
            "       heavy       0.00      0.00      0.00         1\n",
            "        high       0.00      0.00      0.00         0\n",
            "        hill       0.00      0.00      0.00         1\n",
            "        huge       0.00      0.00      0.00         0\n",
            "   impending       0.00      0.00      0.00         0\n",
            "          in       0.00      0.00      0.00         1\n",
            "   inability       0.00      0.00      0.00         0\n",
            "          is       0.00      0.00      0.00         2\n",
            "   lamenting       0.00      0.00      0.00         0\n",
            "       lived       0.00      0.00      0.00         1\n",
            "        made       0.00      0.00      0.00         0\n",
            "         man       0.00      0.00      0.00         1\n",
            "       maxim       0.00      0.00      0.00         0\n",
            "      mosque       1.00      1.00      1.00         1\n",
            "        need       0.00      0.00      0.00         0\n",
            "      needed       0.00      0.00      0.00         1\n",
            "         new       1.00      1.00      1.00         1\n",
            "          of       0.33      0.50      0.40         2\n",
            "         one       0.00      0.00      0.00         1\n",
            "   overheard       0.00      0.00      0.00         0\n",
            "      paying       0.00      0.00      0.00         1\n",
            "     precept       0.00      0.00      0.00         1\n",
            "  preferable       0.00      0.00      0.00         0\n",
            "   requested       0.00      0.00      0.00         0\n",
            "    resident       0.00      0.00      0.00         0\n",
            "        said       0.00      0.00      0.00         1\n",
            "       short       0.00      0.00      0.00         1\n",
            "      should       0.00      0.00      0.00         1\n",
            "         son       0.00      0.00      0.00         1\n",
            "       story       0.00      0.00      0.00         1\n",
            "    superior       0.00      0.00      0.00         1\n",
            "    supplied       0.00      0.00      0.00         1\n",
            "   supplying       0.00      0.00      0.00         0\n",
            "       taxes       0.00      0.00      0.00         1\n",
            "        than       0.00      0.00      0.00         1\n",
            "        that       0.00      0.00      0.00         2\n",
            "         the       0.00      0.00      0.00         6\n",
            "       their       0.00      0.00      0.00         2\n",
            "        they       0.00      0.00      0.00         2\n",
            "          to       0.00      0.00      0.00         1\n",
            "        upon       0.00      0.00      0.00         1\n",
            "      urgent       0.00      0.00      0.00         0\n",
            "      valley       0.00      0.00      0.00         1\n",
            "    villager       0.00      0.00      0.00         1\n",
            "   villagers       0.00      0.00      0.00         0\n",
            "       water       0.00      0.00      0.00         1\n",
            "       where       0.00      0.00      0.00         1\n",
            "       which       0.00      0.00      0.00         1\n",
            "         who       0.00      0.00      0.00         1\n",
            "        with       0.00      0.00      0.00         0\n",
            "       would       0.00      0.00      0.00         1\n",
            "\n",
            "    accuracy                           0.05        75\n",
            "   macro avg       0.03      0.03      0.03        75\n",
            "weighted avg       0.05      0.05      0.05        75\n",
            "\n"
          ]
        },
        {
          "output_type": "stream",
          "name": "stderr",
          "text": [
            "/usr/local/lib/python3.7/dist-packages/sklearn/metrics/_classification.py:1318: UndefinedMetricWarning: Precision and F-score are ill-defined and being set to 0.0 in labels with no predicted samples. Use `zero_division` parameter to control this behavior.\n",
            "  _warn_prf(average, modifier, msg_start, len(result))\n",
            "/usr/local/lib/python3.7/dist-packages/sklearn/metrics/_classification.py:1318: UndefinedMetricWarning: Recall and F-score are ill-defined and being set to 0.0 in labels with no true samples. Use `zero_division` parameter to control this behavior.\n",
            "  _warn_prf(average, modifier, msg_start, len(result))\n",
            "/usr/local/lib/python3.7/dist-packages/sklearn/metrics/_classification.py:1318: UndefinedMetricWarning: Precision and F-score are ill-defined and being set to 0.0 in labels with no predicted samples. Use `zero_division` parameter to control this behavior.\n",
            "  _warn_prf(average, modifier, msg_start, len(result))\n",
            "/usr/local/lib/python3.7/dist-packages/sklearn/metrics/_classification.py:1318: UndefinedMetricWarning: Recall and F-score are ill-defined and being set to 0.0 in labels with no true samples. Use `zero_division` parameter to control this behavior.\n",
            "  _warn_prf(average, modifier, msg_start, len(result))\n",
            "/usr/local/lib/python3.7/dist-packages/sklearn/metrics/_classification.py:1318: UndefinedMetricWarning: Precision and F-score are ill-defined and being set to 0.0 in labels with no predicted samples. Use `zero_division` parameter to control this behavior.\n",
            "  _warn_prf(average, modifier, msg_start, len(result))\n",
            "/usr/local/lib/python3.7/dist-packages/sklearn/metrics/_classification.py:1318: UndefinedMetricWarning: Recall and F-score are ill-defined and being set to 0.0 in labels with no true samples. Use `zero_division` parameter to control this behavior.\n",
            "  _warn_prf(average, modifier, msg_start, len(result))\n"
          ]
        }
      ]
    },
    {
      "cell_type": "code",
      "source": [
        "import seaborn as sn \n",
        "import pandas as pd \n",
        "import matplotlib.pyplot as plt \n",
        "from sklearn.metrics import confusion_matrix \n",
        "col1=set(f1)\n",
        "col2=set(f2)\n",
        "dic=col1.union(col2)\n",
        "array=confusion_matrix(f1,f2)\n",
        "df_cm = pd.DataFrame(array ,index=dic,columns=dic)\n",
        "df_cm\n",
        "plt.figure(figsize = (10,7)) \n",
        "sn.heatmap(df_cm, annot=True, annot_kws={\"size\": 16}) "
      ],
      "metadata": {
        "colab": {
          "base_uri": "https://localhost:8080/",
          "height": 502
        },
        "id": "0VSoYJGsU72A",
        "outputId": "9b51ccce-2b5b-4a1e-984f-b86748a5a462"
      },
      "execution_count": 18,
      "outputs": [
        {
          "output_type": "execute_result",
          "data": {
            "text/plain": [
              "<matplotlib.axes._subplots.AxesSubplot at 0x7f0954c21710>"
            ]
          },
          "metadata": {},
          "execution_count": 18
        },
        {
          "output_type": "display_data",
          "data": {
            "text/plain": [
              "<Figure size 720x504 with 2 Axes>"
            ],
            "image/png": "[encoded data removed]"
          },
          "metadata": {
            "needs_background": "light"
          }
        }
      ]
    },
    {
      "cell_type": "code",
      "source": [
        "def _edit_dist_init(len1,len2):\n",
        "  lev=[]\n",
        "  for i in range(len1):\n",
        "    lev.append([0]*len2)\n",
        "  for i in range(len1):\n",
        "    lev[i][0]=i\n",
        "  for j in range(len2):\n",
        "    lev[0][j] =j\n",
        "  return lev  "
      ],
      "metadata": {
        "id": "OQ2_5t-1VBh9"
      },
      "execution_count": 19,
      "outputs": []
    },
    {
      "cell_type": "code",
      "source": [
        "def _edit_dist_step(lev,i,j,s1,s2,transpositions=False):\n",
        "  c1=s1[i-1]\n",
        "  c2=s2[j-1]\n",
        "  \n",
        "  a=lev[i-1][j]+1\n",
        "  b=lev[i][j-1]+1\n",
        "  c=lev[i-1][j-1]+(c1!=c2)\n",
        "  d=c+1\n",
        "  if transpositions and i>1 and j>1:\n",
        "    if s1[i-2]==c2 and s2[j-2]==c1:\n",
        "      d=lev[i-2][j-2]+1\n",
        "    lev[i][j]=min(a,b,c,d)  "
      ],
      "metadata": {
        "id": "B29-udBpVDcl"
      },
      "execution_count": 20,
      "outputs": []
    },
    {
      "cell_type": "code",
      "source": [
        "def edit_distance(s1,s2,transpositions=False):\n",
        "  len1=len(s1)\n",
        "  len2=len(s2)\n",
        "  lev=_edit_dist_init(len1+1,len2+1)\n",
        "\n",
        "  for i in range(len1):\n",
        "    for j in range(len2):\n",
        "      _edit_dist_step(lev,i+1,j+1,s1,s2,transpositions=transpositions)\n",
        "  return lev[len1][len2]    \n",
        "\n",
        "dis=  edit_distance(\"advise\",\"advice\")\n",
        "print(dis)"
      ],
      "metadata": {
        "colab": {
          "base_uri": "https://localhost:8080/"
        },
        "id": "pMmyjztgVFnj",
        "outputId": "dc385197-6a1d-49fd-cb91-c08e554a053a"
      },
      "execution_count": 23,
      "outputs": [
        {
          "output_type": "stream",
          "name": "stdout",
          "text": [
            "0\n"
          ]
        }
      ]
    },
    {
      "cell_type": "code",
      "source": [
        "def jacc_similarity(query,doc):\n",
        "  first=set(query).intersection(set(doc))\n",
        "  second=set(query).union(set(doc))\n",
        "  return len(first)/len(second)\n",
        "\n",
        "X=set(f1) \n",
        "Y=set(f2) \n",
        "print(jacc_similarity(X, Y) )"
      ],
      "metadata": {
        "colab": {
          "base_uri": "https://localhost:8080/"
        },
        "id": "g0HtxDuZVHcO",
        "outputId": "be357dcf-9bec-4c27-e319-af1a1a80d483"
      },
      "execution_count": 24,
      "outputs": [
        {
          "output_type": "stream",
          "name": "stdout",
          "text": [
            "0.3372093023255814\n"
          ]
        }
      ]
    },
    {
      "cell_type": "code",
      "source": [
        "def binary_distance(label1, label2):\n",
        "  return 0.0 if label1 == label2 else 1.0\n",
        "\n",
        "import nltk \n",
        "from nltk.metrics import * \n",
        "X=set(f1) \n",
        "Y=set(f2) \n",
        "binary_distance(X, Y)"
      ],
      "metadata": {
        "colab": {
          "base_uri": "https://localhost:8080/"
        },
        "id": "XADYCOvjVJNi",
        "outputId": "8c21b61f-49b5-4e90-f4f5-c41016e4d43e"
      },
      "execution_count": 25,
      "outputs": [
        {
          "output_type": "execute_result",
          "data": {
            "text/plain": [
              "1.0"
            ]
          },
          "metadata": {},
          "execution_count": 25
        }
      ]
    },
    {
      "cell_type": "code",
      "source": [
        "def masi(label1, label2):\n",
        "  len_intersection = len(label1.intersection(label2)) \n",
        "  len_union = len(label1.union(label2)) \n",
        "  len_label1 = len(label1) \n",
        "  len_label2 = len(label2) \n",
        "  if len_label1 == len_label2 and len_label1 == len_intersection:\n",
        "    m = 1\n",
        "  elif len_intersection == min(len_label1, len_label2): \n",
        "    m = 0.67\n",
        "  elif len_intersection > 0: \n",
        "    m = 0.33\n",
        "  else:\n",
        "    m = 0\n",
        "  return 1 - (len_intersection / float(len_union)) * m\n",
        "  \n",
        "   \n",
        "X=set([10,20,30,40]) \n",
        "Y=set([30,50,70]) \n",
        "masi(X, Y) \n",
        "\n"
      ],
      "metadata": {
        "colab": {
          "base_uri": "https://localhost:8080/"
        },
        "id": "-l6bsPFoVMjp",
        "outputId": "8939c78c-dc1f-4424-87a4-a0e7ab9ae260"
      },
      "execution_count": 26,
      "outputs": [
        {
          "output_type": "execute_result",
          "data": {
            "text/plain": [
              "0.945"
            ]
          },
          "metadata": {},
          "execution_count": 26
        }
      ]
    }
  ]
}