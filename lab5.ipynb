{
  "nbformat": 4,
  "nbformat_minor": 0,
  "metadata": {
    "colab": {
      "provenance": [],
      "authorship_tag": "ABX9TyNnA3i7txuLr92DTO+fYSok",
      "include_colab_link": true
    },
    "kernelspec": {
      "name": "python3",
      "display_name": "Python 3"
    },
    "language_info": {
      "name": "python"
    }
  },
  "cells": [
    {
      "cell_type": "markdown",
      "metadata": {
        "id": "view-in-github",
        "colab_type": "text"
      },
      "source": [
        "<a href=\"https://colab.research.google.com/github/AreejShareefi/InformationRetrieval-/blob/main/lab5.ipynb\" target=\"_parent\"><img src=\"https://colab.research.google.com/assets/colab-badge.svg\" alt=\"Open In Colab\"/></a>"
      ]
    },
    {
      "cell_type": "code",
      "execution_count": 1,
      "metadata": {
        "colab": {
          "base_uri": "https://localhost:8080/"
        },
        "id": "i-pE85OGdC9r",
        "outputId": "c8906720-8659-4305-d400-1e20e21ffa8e"
      },
      "outputs": [
        {
          "output_type": "stream",
          "name": "stdout",
          "text": [
            "Looking in indexes: https://pypi.org/simple, https://us-python.pkg.dev/colab-wheels/public/simple/\n",
            "Requirement already satisfied: nltk in /usr/local/lib/python3.7/dist-packages (3.7)\n",
            "Requirement already satisfied: joblib in /usr/local/lib/python3.7/dist-packages (from nltk) (1.2.0)\n",
            "Requirement already satisfied: tqdm in /usr/local/lib/python3.7/dist-packages (from nltk) (4.64.1)\n",
            "Requirement already satisfied: click in /usr/local/lib/python3.7/dist-packages (from nltk) (7.1.2)\n",
            "Requirement already satisfied: regex>=2021.8.3 in /usr/local/lib/python3.7/dist-packages (from nltk) (2022.6.2)\n"
          ]
        }
      ],
      "source": [
        "!pip install nltk"
      ]
    },
    {
      "cell_type": "code",
      "source": [],
      "metadata": {
        "id": "lFsVy73xdfP-"
      },
      "execution_count": 2,
      "outputs": []
    },
    {
      "cell_type": "code",
      "source": [
        "from __future__ import print_function\n",
        "from nltk.metrics import *\n",
        "Sentence1= \"There are many similarity measures used in NLTK package\".split()\n",
        "Sentence2= \"There are many similarity measures are available in NLTK\".split()\n",
        "print(accuracy(Sentence1,Sentence2))\n",
        "setSentence1=set(Sentence1)\n",
        "setSentence2=set(Sentence2)\n",
        "\n",
        "precision=precision(setSentence1,setSentence2)\n",
        "recall=recall(setSentence1,setSentence2)\n",
        "\n",
        "print('precision = ',precision)\n",
        "print('recall = ',recall)\n",
        "\n",
        "f_measure=(2*precision*recall) / (precision+recall)\n",
        "print('f_measure = ',f_measure)"
      ],
      "metadata": {
        "colab": {
          "base_uri": "https://localhost:8080/"
        },
        "id": "-dpgvjVtffA9",
        "outputId": "998db75f-cb48-4102-d1e8-40b7e5fc37ff"
      },
      "execution_count": 7,
      "outputs": [
        {
          "output_type": "stream",
          "name": "stdout",
          "text": [
            "0.5555555555555556\n",
            "precision =  0.875\n",
            "recall =  0.7777777777777778\n",
            "f_measure =  0.823529411764706\n"
          ]
        }
      ]
    },
    {
      "cell_type": "code",
      "source": [
        "from sklearn.metrics import classification_report \n",
        "\n",
        "print(classification_report(Sentence1,Sentence2))"
      ],
      "metadata": {
        "colab": {
          "base_uri": "https://localhost:8080/"
        },
        "id": "AVoZ9jYlkBSZ",
        "outputId": "30c16200-1f8b-47a5-8ca6-1e0a70b5014e"
      },
      "execution_count": 12,
      "outputs": [
        {
          "output_type": "stream",
          "name": "stdout",
          "text": [
            "              precision    recall  f1-score   support\n",
            "\n",
            "        NLTK       0.00      0.00      0.00         1\n",
            "       There       1.00      1.00      1.00         1\n",
            "         are       0.50      1.00      0.67         1\n",
            "   available       0.00      0.00      0.00         0\n",
            "          in       0.00      0.00      0.00         1\n",
            "        many       1.00      1.00      1.00         1\n",
            "    measures       1.00      1.00      1.00         1\n",
            "     package       0.00      0.00      0.00         1\n",
            "  similarity       1.00      1.00      1.00         1\n",
            "        used       0.00      0.00      0.00         1\n",
            "\n",
            "    accuracy                           0.56         9\n",
            "   macro avg       0.45      0.50      0.47         9\n",
            "weighted avg       0.50      0.56      0.52         9\n",
            "\n"
          ]
        },
        {
          "output_type": "stream",
          "name": "stderr",
          "text": [
            "/usr/local/lib/python3.7/dist-packages/sklearn/metrics/_classification.py:1318: UndefinedMetricWarning: Precision and F-score are ill-defined and being set to 0.0 in labels with no predicted samples. Use `zero_division` parameter to control this behavior.\n",
            "  _warn_prf(average, modifier, msg_start, len(result))\n",
            "/usr/local/lib/python3.7/dist-packages/sklearn/metrics/_classification.py:1318: UndefinedMetricWarning: Recall and F-score are ill-defined and being set to 0.0 in labels with no true samples. Use `zero_division` parameter to control this behavior.\n",
            "  _warn_prf(average, modifier, msg_start, len(result))\n",
            "/usr/local/lib/python3.7/dist-packages/sklearn/metrics/_classification.py:1318: UndefinedMetricWarning: Precision and F-score are ill-defined and being set to 0.0 in labels with no predicted samples. Use `zero_division` parameter to control this behavior.\n",
            "  _warn_prf(average, modifier, msg_start, len(result))\n",
            "/usr/local/lib/python3.7/dist-packages/sklearn/metrics/_classification.py:1318: UndefinedMetricWarning: Recall and F-score are ill-defined and being set to 0.0 in labels with no true samples. Use `zero_division` parameter to control this behavior.\n",
            "  _warn_prf(average, modifier, msg_start, len(result))\n",
            "/usr/local/lib/python3.7/dist-packages/sklearn/metrics/_classification.py:1318: UndefinedMetricWarning: Precision and F-score are ill-defined and being set to 0.0 in labels with no predicted samples. Use `zero_division` parameter to control this behavior.\n",
            "  _warn_prf(average, modifier, msg_start, len(result))\n",
            "/usr/local/lib/python3.7/dist-packages/sklearn/metrics/_classification.py:1318: UndefinedMetricWarning: Recall and F-score are ill-defined and being set to 0.0 in labels with no true samples. Use `zero_division` parameter to control this behavior.\n",
            "  _warn_prf(average, modifier, msg_start, len(result))\n"
          ]
        }
      ]
    },
    {
      "cell_type": "code",
      "source": [
        "import seaborn as sn \n",
        "import pandas as pd \n",
        "import matplotlib.pyplot as plt \n",
        "from sklearn.metrics import confusion_matrix \n",
        "col1=set(Sentence1)\n",
        "col2=set(Sentence2)\n",
        "dic=col1.union(col2)\n",
        "array=confusion_matrix(Sentence1,Sentence2)\n",
        "df_cm = pd.DataFrame(array ,index=dic,columns=dic)\n",
        "df_cm\n",
        "plt.figure(figsize = (10,7)) \n",
        "sn.heatmap(df_cm, annot=True, annot_kws={\"size\": 16}) "
      ],
      "metadata": {
        "colab": {
          "base_uri": "https://localhost:8080/",
          "height": 450
        },
        "id": "GiewvbK_lhbd",
        "outputId": "84305b3c-fe9d-4bb8-c486-0d18e2c0c6ac"
      },
      "execution_count": 19,
      "outputs": [
        {
          "output_type": "execute_result",
          "data": {
            "text/plain": [
              "<matplotlib.axes._subplots.AxesSubplot at 0x7f1de69f4310>"
            ]
          },
          "metadata": {},
          "execution_count": 19
        },
        {
          "output_type": "display_data",
          "data": {
            "text/plain": [
              "<Figure size 720x504 with 2 Axes>"
            ],
            "image/png": "[encoded data removed]"
          },
          "metadata": {
            "needs_background": "light"
          }
        }
      ]
    },
    {
      "cell_type": "code",
      "source": [
        "def _edit_dist_init(len1,len2):\n",
        "  lev=[]\n",
        "  for i in range(len1):\n",
        "    lev.append([0]*len2)\n",
        "  for i in range(len1):\n",
        "    lev[i][0]=i\n",
        "  for j in range(len2):\n",
        "    lev[0][j] =j\n",
        "  return lev  "
      ],
      "metadata": {
        "id": "1ijxrBSipVMX"
      },
      "execution_count": 23,
      "outputs": []
    },
    {
      "cell_type": "code",
      "source": [
        "def _edit_dist_step(lev,i,j,s1,s2,transpositions=False):\n",
        "  c1=s1[i-1]\n",
        "  c2=s2[j-1]\n",
        "  \n",
        "  a=lev[i-1][j]+1\n",
        "  b=lev[i][j-1]+1\n",
        "  c=lev[i-1][j-1]+(c1!=c2)\n",
        "  d=c+1\n",
        "  if transpositions and i>1 and j>1:\n",
        "    if s1[i-2]==c2 and s2[j-2]==c1:\n",
        "      d=lev[i-2][j-2]+1\n",
        "    lev[i][j]=min(a,b,c,d)  "
      ],
      "metadata": {
        "id": "mwSJzCelqVQy"
      },
      "execution_count": 24,
      "outputs": []
    },
    {
      "cell_type": "code",
      "source": [
        "def edit_distance(s1,s2,transpositions=False):\n",
        "  len1=len(s1)\n",
        "  len2=len(s2)\n",
        "  lev=_edit_dist_init(len1+1,len2+1)\n",
        "\n",
        "  for i in range(len1):\n",
        "    for j in range(len2):\n",
        "      _edit_dist_step(lev,i+1,j+1,s1,s2,transpositions=transpositions)\n",
        "  return lev[len1][len2]    \n",
        "\n",
        "dis=  edit_distance(\"relate\",\"relation\")\n",
        "print(dis)\n"
      ],
      "metadata": {
        "colab": {
          "base_uri": "https://localhost:8080/"
        },
        "id": "z1XCcHtbvg6X",
        "outputId": "cdbfd711-0554-4950-87fa-996f2707688e"
      },
      "execution_count": 25,
      "outputs": [
        {
          "output_type": "stream",
          "name": "stdout",
          "text": [
            "0\n"
          ]
        }
      ]
    },
    {
      "cell_type": "code",
      "source": [
        "def jacc_similarity(query,doc):\n",
        "  first=set(query).intersection(set(doc))\n",
        "  second=set(query).union(set(doc))\n",
        "  return len(first)/len(second)\n",
        "\n",
        "X=set(Sentence1) \n",
        "Y=set(Sentence2) \n",
        "print(jacc_similarity(X, Y) )"
      ],
      "metadata": {
        "colab": {
          "base_uri": "https://localhost:8080/"
        },
        "id": "5HyQQVeOreCh",
        "outputId": "b92bd75f-b425-45a9-bd7e-70a4fd6da0c8"
      },
      "execution_count": 22,
      "outputs": [
        {
          "output_type": "stream",
          "name": "stdout",
          "text": [
            "0.7\n"
          ]
        }
      ]
    },
    {
      "cell_type": "code",
      "source": [
        "def binary_distance(label1, label2):\n",
        "  return 0.0 if label1 == label2 else 1.0\n",
        "\n",
        "import nltk \n",
        "from nltk.metrics import * \n",
        "X=set(Sentence1) \n",
        "Y=set(Sentence2) \n",
        "binary_distance(X, Y)"
      ],
      "metadata": {
        "colab": {
          "base_uri": "https://localhost:8080/"
        },
        "id": "JER5ZukYszTy",
        "outputId": "a66774b9-1261-4187-bb5b-427edf89d5b9"
      },
      "execution_count": 20,
      "outputs": [
        {
          "output_type": "execute_result",
          "data": {
            "text/plain": [
              "1.0"
            ]
          },
          "metadata": {},
          "execution_count": 20
        }
      ]
    },
    {
      "cell_type": "code",
      "source": [
        "def masi(label1, label2):\n",
        "  len_intersection = len(label1.intersection(label2)) \n",
        "  len_union = len(label1.union(label2)) \n",
        "  len_label1 = len(label1) \n",
        "  len_label2 = len(label2) \n",
        "  if len_label1 == len_label2 and len_label1 == len_intersection:\n",
        "    m = 1\n",
        "  elif len_intersection == min(len_label1, len_label2): \n",
        "    m = 0.67\n",
        "  elif len_intersection > 0: \n",
        "    m = 0.33\n",
        "  else:\n",
        "    m = 0\n",
        "  return 1 - (len_intersection / float(len_union)) * m\n",
        "  \n",
        "   \n",
        "X=set([10,20,30,40]) \n",
        "Y=set([30,50,70]) \n",
        "masi(X, Y) \n",
        "\n"
      ],
      "metadata": {
        "colab": {
          "base_uri": "https://localhost:8080/"
        },
        "id": "nqyaXKYXs7-E",
        "outputId": "54e3f492-78d6-4524-904c-244fb60879da"
      },
      "execution_count": 21,
      "outputs": [
        {
          "output_type": "execute_result",
          "data": {
            "text/plain": [
              "0.945"
            ]
          },
          "metadata": {},
          "execution_count": 21
        }
      ]
    }
  ]
}