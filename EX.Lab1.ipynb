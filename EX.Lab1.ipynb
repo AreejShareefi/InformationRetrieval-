{
 "cells":[
  {
   "cell_type":"markdown",
   "source":[
    "# Exercise1_lab1"
   ],
   "attachments":{
    
   },
   "metadata":{
    "datalore":{
     "node_id":"DHxJ3KiJT0JIzcljnHQYly",
     "type":"MD",
     "hide_input_from_viewers":false,
     "hide_output_from_viewers":false
    }
   }
  },
  {
   "cell_type":"code",
   "source":[
    "d0 = \"Welcom to our first lab session\"\n",
    "d1 = \"In this lab, you will lean more about Term Document Incidence Matrix\"\n",
    "d2 = \"You will also learn how to visualize it\"\n",
    "d3 = \"Hope you enjoy learning it\"\n",
    "collection = {\"doc0\": d0,\n",
    "\"doc1\": d1,\n",
    "\"doc2\": d2,\n",
    "\"doc3\": d3}\n",
    "collection"
   ],
   "execution_count":1,
   "outputs":[
    {
     "data":{
      "text\/plain":[
       "{'doc0': 'Welcom to our first lab session',\n",
       " 'doc1': 'In this lab, you will lean more about Term Document Incidence Matrix',\n",
       " 'doc2': 'You will also learn how to visualize it',\n",
       " 'doc3': 'Hope you enjoy learning it'}"
      ]
     },
     "metadata":{
      
     },
     "output_type":"display_data"
    }
   ],
   "metadata":{
    "datalore":{
     "node_id":"CgI3qD8bQBYHdJ1YrSBpXf",
     "type":"CODE",
     "hide_input_from_viewers":false,
     "hide_output_from_viewers":false
    }
   }
  },
  {
   "cell_type":"code",
   "source":[
    "boolean_operators = {'AND', 'OR', 'NOT'}"
   ],
   "execution_count":2,
   "outputs":[
    
   ],
   "metadata":{
    "datalore":{
     "node_id":"hWvowVKdz3qHs8eVkRWgkW",
     "type":"CODE",
     "hide_input_from_viewers":false,
     "hide_output_from_viewers":false
    }
   }
  },
  {
   "cell_type":"code",
   "source":[
    "#list of terms\n",
    "def get_terms (data):\n",
    "    terms=[]\n",
    "    for doc in data:\n",
    "        for term in data[doc].split() :\n",
    "            terms.append(term)\n",
    "    return terms\n",
    "\n",
    "#list of unique terms\n",
    "def get_unique_terms(terms):\n",
    "    unique_terms=[]\n",
    "    for d in terms :\n",
    "        if d not in unique_terms:\n",
    "            unique_terms.append(d)\n",
    "    return unique_terms\n",
    "\n",
    "#document collection terms\n",
    "def get_document_collection_terms(data):\n",
    "    docs_colllection={}\n",
    "    for doc in data:\n",
    "        if doc not in boolean_operators :\n",
    "            docs_colllection[doc]=get_unique_terms(data[doc].split())\n",
    "    return docs_colllection\n",
    "\n",
    "def display_dict(dic):\n",
    "    print(\"\\n\")\n",
    "    for i in dic:\n",
    "        print (i , \" : \" ,dic[i])\n",
    "    print(\"\\n\")"
   ],
   "execution_count":3,
   "outputs":[
    
   ],
   "metadata":{
    "datalore":{
     "node_id":"ASuJKw5IaIY5lYr66fd7DP",
     "type":"CODE",
     "hide_input_from_viewers":false,
     "hide_output_from_viewers":false
    }
   }
  },
  {
   "cell_type":"code",
   "source":[
    "#print the terms available in the collection\n",
    "print (\"\\n### Terms in all docs ###\\n\" , *get_terms(collection) ,sep= \" \\n \")"
   ],
   "execution_count":5,
   "outputs":[
    {
     "name":"stdout",
     "text":[
      "\n",
      "### Terms in all docs ###\n",
      " \n",
      " Welcom \n",
      " to \n",
      " our \n",
      " first \n",
      " lab \n",
      " session \n",
      " In \n",
      " this \n",
      " lab, \n",
      " you \n",
      " will \n",
      " lean \n",
      " more \n",
      " about \n",
      " Term \n",
      " Document \n",
      " Incidence \n",
      " Matrix \n",
      " You \n",
      " will \n",
      " also \n",
      " learn \n",
      " how \n",
      " to \n",
      " visualize \n",
      " it \n",
      " Hope \n",
      " you \n",
      " enjoy \n",
      " learning \n",
      " it\n"
     ],
     "output_type":"stream"
    }
   ],
   "metadata":{
    "datalore":{
     "node_id":"fRmZlTMEjGGUdiH7cf05Tx",
     "type":"CODE",
     "hide_input_from_viewers":false,
     "hide_output_from_viewers":false
    }
   }
  },
  {
   "cell_type":"code",
   "source":[
    "#this function takes the collection of documents in a form of dictionary as an input\n",
    "def term_document_incidence_matrix(collection):\n",
    "    ## list of terms from the data file collection\n",
    "    terms = get_terms(collection)\n",
    "    #list of unique terms\n",
    "    uique_terms = get_unique_terms(terms)\n",
    "    #Document collection terms\n",
    "    docs_terms=get_document_collection_terms(collection)\n",
    "    #TermDocumentIncidenceMatrix\n",
    "    term_docs_matrix= { }\n",
    "    for term in uique_terms :\n",
    "        vector=[]\n",
    "        for c in docs_terms:\n",
    "            if term in docs_terms[c]:\n",
    "                vector.append(1)\n",
    "            else :\n",
    "                vector.append(0)\n",
    "\n",
    "        term_docs_matrix[term]=vector\n",
    "    return term_docs_matrix\n",
    "\n",
    "#this fucntion takes a term and a terms-document incidence matrix and returns the inc\n",
    "#this function just for explanation and display purposes\n",
    "def term_incidence_vector(term,term_docs_incid_matrix):\n",
    "    try:\n",
    "        return term_docs_incid_matrix[term]\n",
    "    except:\n",
    "        return \"term not found\"\n",
    "#build the term-document incidence matrix\n",
    "term_docs_incid_matrix=term_document_incidence_matrix(collection)\n",
    "print(\"Term-Document incidence Matrix\\n\")\n",
    "#formatted Display\n",
    "display_dict(term_docs_incid_matrix)"
   ],
   "execution_count":12,
   "outputs":[
    {
     "name":"stdout",
     "text":[
      "Term-Document incidence Matrix\n",
      "\n",
      "\n",
      "\n",
      "Welcom  :  [1, 0, 0, 0]\n",
      "to  :  [1, 0, 1, 0]\n",
      "our  :  [1, 0, 0, 0]\n",
      "first  :  [1, 0, 0, 0]\n",
      "lab  :  [1, 0, 0, 0]\n",
      "session  :  [1, 0, 0, 0]\n",
      "In  :  [0, 1, 0, 0]\n",
      "this  :  [0, 1, 0, 0]\n",
      "lab,  :  [0, 1, 0, 0]\n",
      "you  :  [0, 1, 0, 1]\n",
      "will  :  [0, 1, 1, 0]\n",
      "lean  :  [0, 1, 0, 0]\n",
      "more  :  [0, 1, 0, 0]\n",
      "about  :  [0, 1, 0, 0]\n",
      "Term  :  [0, 1, 0, 0]\n",
      "Document  :  [0, 1, 0, 0]\n",
      "Incidence  :  [0, 1, 0, 0]\n",
      "Matrix  :  [0, 1, 0, 0]\n",
      "You  :  [0, 0, 1, 0]\n",
      "also  :  [0, 0, 1, 0]\n",
      "learn  :  [0, 0, 1, 0]\n",
      "how  :  [0, 0, 1, 0]\n",
      "visualize  :  [0, 0, 1, 0]\n",
      "it  :  [0, 0, 1, 1]\n",
      "Hope  :  [0, 0, 0, 1]\n",
      "enjoy  :  [0, 0, 0, 1]\n",
      "learning  :  [0, 0, 0, 1]\n",
      "\n",
      "\n"
     ],
     "output_type":"stream"
    }
   ],
   "metadata":{
    "datalore":{
     "node_id":"dLLC2zW5iBLVlSv7XwKp6C",
     "type":"CODE",
     "hide_input_from_viewers":false,
     "hide_output_from_viewers":false
    }
   }
  },
  {
   "cell_type":"code",
   "source":[
    "#Query Filteration\n",
    "#input : Query\n",
    "#output : List of terms of a given query which match with the terms in our collection\n",
    "def query_filteration(query,collection):\n",
    "    terms= get_terms(collection)\n",
    "    unique_terms=get_unique_terms(terms)\n",
    "    qterms=[]\n",
    "    splitted_query=query.split()\n",
    "    for qterm in splitted_query:\n",
    "        if qterm in unique_terms or qterm in boolean_operators:\n",
    "            qterms.append(qterm)\n",
    "    return qterms"
   ],
   "execution_count":14,
   "outputs":[
    
   ],
   "metadata":{
    "datalore":{
     "node_id":"stlRh76ms1TRYYH1oQ1sk8",
     "type":"CODE",
     "hide_input_from_viewers":false,
     "hide_output_from_viewers":false
    }
   }
  },
  {
   "cell_type":"code",
   "source":[
    "#Boolean Operator Processing\n",
    "# input : Boolean Operator ,Next term Incedence Vector ,Previous term Incedence Vecto\n",
    "def boolean_operator_processing(bool_operator,prevV,nextV):\n",
    "    if bool_operator == \"AND\":\n",
    "       return [a & b for a, b in zip(prevV, nextV)]\n",
    "    elif bool_operator==\"OR\" :\n",
    "        return [a | b for a, b in zip(prevV, nextV)]\n",
    "    elif bool_operator == \"NOT\":\n",
    "        return [1-a for a in prevV]"
   ],
   "execution_count":17,
   "outputs":[
    
   ],
   "metadata":{
    "datalore":{
     "node_id":"PVNU8SUMl4QwsTmyqHS3kx",
     "type":"CODE",
     "hide_input_from_viewers":false,
     "hide_output_from_viewers":false
    }
   }
  },
  {
   "cell_type":"code",
   "source":[
    "# Boolean retrieval function\n",
    "# input : Query\n",
    "def boolean_retrieval(query,collection):\n",
    "    #build a terms_documents incidence matrix\n",
    "    term_docs_incid_matrix=term_document_incidence_matrix(collection)\n",
    "    bitwiseop=\"\"\n",
    "    #get the query terms\n",
    "    qterms=query_filteration(query,collection)\n",
    "    result=[]\n",
    "    result_set={}\n",
    "    has_previous_term=False\n",
    "    has_not_operation=False\n",
    "    inc_vec_prev=[]\n",
    "    inc_vec_next=[]\n",
    "    for term in qterms :\n",
    "        if term not in boolean_operators:\n",
    "            if has_not_operation:\n",
    "                if has_previous_term:\n",
    "                    inc_vec_next=boolean_operator_processing(\"NOT\",term_docs_incid_matrix[term],inc_vec_next)\n",
    "                else :\n",
    "                    inc_vec_prev=boolean_operator_processing(\"NOT\",term_docs_incid_matrix[term],inc_vec_next)\n",
    "                    result=inc_vec_prev\n",
    "                has_not_operation=False\n",
    "            elif has_previous_term:\n",
    "                inc_vec_next=term_docs_incid_matrix[term]\n",
    "            else :\n",
    "                inc_vec_prev=term_docs_incid_matrix[term]\n",
    "                result= inc_vec_prev\n",
    "                has_previous_term=True\n",
    "\n",
    "        elif term==\"NOT\":\n",
    "          has_not_operation=True\n",
    "        else :\n",
    "          bitwiseop=term\n",
    "        if len(inc_vec_next)!= 0 :\n",
    "            result = boolean_operator_processing(bitwiseop,inc_vec_prev,inc_vec_next)\n",
    "            inc_vec_prev=result\n",
    "            has_previous_term=True\n",
    "            inc_vec_next= []\n",
    "    for i,doc in zip(result,collection):\n",
    "      result_set[doc]=i\n",
    "    return result_set"
   ],
   "execution_count":19,
   "outputs":[
    
   ],
   "metadata":{
    "datalore":{
     "node_id":"i2ydMo4tOQonoyEAWnceO5",
     "type":"CODE",
     "hide_input_from_viewers":false,
     "hide_output_from_viewers":false
    }
   }
  },
  {
   "cell_type":"code",
   "source":[
    "#print the collection to check whether the boolean retrieval output is correct or not\n",
    "collection"
   ],
   "execution_count":23,
   "outputs":[
    {
     "data":{
      "text\/plain":[
       "{'doc0': 'Welcom to our first lab session',\n",
       " 'doc1': 'In this lab, you will lean more about Term Document Incidence Matrix',\n",
       " 'doc2': 'You will also learn how to visualize it',\n",
       " 'doc3': 'Hope you enjoy learning it'}"
      ]
     },
     "metadata":{
      
     },
     "output_type":"display_data"
    }
   ],
   "metadata":{
    "datalore":{
     "node_id":"Ie118aeaF8vgBg0gSzom6g",
     "type":"CODE",
     "hide_input_from_viewers":false,
     "hide_output_from_viewers":false
    }
   }
  },
  {
   "cell_type":"code",
   "source":[
    "query2 = \"Matrix OR lab AND NOT visualize\"\n",
    "print(\"query2 boolean retrieval \",boolean_retrieval(query2,collection))"
   ],
   "execution_count":24,
   "outputs":[
    {
     "name":"stdout",
     "text":[
      "query2 boolean retrieval  {'doc0': 1, 'doc1': 1, 'doc2': 0, 'doc3': 0}\n"
     ],
     "output_type":"stream"
    }
   ],
   "metadata":{
    "datalore":{
     "node_id":"4SQvWAtTncO19eCWZ3b2YA",
     "type":"CODE",
     "hide_input_from_viewers":false,
     "hide_output_from_viewers":false
    }
   }
  },
  {
   "cell_type":"markdown",
   "source":[
    "# Exercise2_lab1"
   ],
   "attachments":{
    
   },
   "metadata":{
    "datalore":{
     "node_id":"TzFrIe4LXcM0nZUcnhZhiJ",
     "type":"MD",
     "hide_input_from_viewers":false,
     "hide_output_from_viewers":false
    }
   }
  },
  {
   "cell_type":"code",
   "source":[
    "d0 = \"Last month Cloud Speech introduced a new word-level timestamps feature\"\n",
    "d1 = \"audio transcriptions now include the start and end timestamp for each word\"\n",
    "d2 = \"This opens up tons of possibilities\"\n",
    "d3 = \"developers can now skip to the exact moment in an audio file where a word was spoken\"\n",
    "d4 = \", display the relevant text while audio is playing, or search a library of audio for a specific term\"\n",
    "collection = {\"doc0\": d0,\n",
    "\"doc1\": d1,\n",
    "\"doc2\": d2,\n",
    "\"doc3\": d3,\n",
    "\"doc4\": d4}\n",
    "collection"
   ],
   "execution_count":25,
   "outputs":[
    {
     "data":{
      "text\/plain":[
       "{'doc0': 'Last month Cloud Speech introduced a new word-level timestamps feature',\n",
       " 'doc1': 'audio transcriptions now include the start and end timestamp for each word',\n",
       " 'doc2': 'This opens up tons of possibilities',\n",
       " 'doc3': 'developers can now skip to the exact moment in an audio file where a word was spoken',\n",
       " 'doc4': ', display the relevant text while audio is playing, or search a library of audio for a specific term'}"
      ]
     },
     "metadata":{
      
     },
     "output_type":"display_data"
    }
   ],
   "metadata":{
    "datalore":{
     "node_id":"z5BEJGLz0l1POA12ueSKGK",
     "type":"CODE",
     "hide_input_from_viewers":false,
     "hide_output_from_viewers":false
    }
   }
  },
  {
   "cell_type":"code",
   "source":[
    "boolean_operators = {'AND', 'OR', 'NOT'}"
   ],
   "execution_count":26,
   "outputs":[
    
   ],
   "metadata":{
    "datalore":{
     "node_id":"BfbcYKi5KLO9tpH9URU09G",
     "type":"CODE",
     "hide_input_from_viewers":false,
     "hide_output_from_viewers":false
    }
   }
  },
  {
   "cell_type":"code",
   "source":[
    "#list of terms\n",
    "def get_terms (data):\n",
    "    terms=[]\n",
    "    for doc in data:\n",
    "        for term in data[doc].split() :\n",
    "            terms.append(term)\n",
    "    return terms\n",
    "\n",
    "#list of unique terms\n",
    "def get_unique_terms(terms):\n",
    "    unique_terms=[]\n",
    "    for d in terms :\n",
    "        if d not in unique_terms:\n",
    "            unique_terms.append(d)\n",
    "    return unique_terms\n",
    "\n",
    "#document collection terms\n",
    "def get_document_collection_terms(data):\n",
    "    docs_colllection={}\n",
    "    for doc in data:\n",
    "        if doc not in boolean_operators :\n",
    "            docs_colllection[doc]=get_unique_terms(data[doc].split())\n",
    "    return docs_colllection\n",
    "\n",
    "def display_dict(dic):\n",
    "    print(\"\\n\")\n",
    "    for i in dic:\n",
    "        print (i , \" : \" ,dic[i])\n",
    "    print(\"\\n\")"
   ],
   "execution_count":27,
   "outputs":[
    
   ],
   "metadata":{
    "datalore":{
     "node_id":"3xsWzxH00QjagRtts5QCoX",
     "type":"CODE",
     "hide_input_from_viewers":false,
     "hide_output_from_viewers":false
    }
   }
  },
  {
   "cell_type":"code",
   "source":[
    "#print the terms available in the collection\n",
    "print (\"\\n### Terms in all docs ###\\n\" , *get_terms(collection) ,sep= \" \\n \")"
   ],
   "execution_count":28,
   "outputs":[
    {
     "name":"stdout",
     "text":[
      "\n",
      "### Terms in all docs ###\n",
      " \n",
      " Last \n",
      " month \n",
      " Cloud \n",
      " Speech \n",
      " introduced \n",
      " a \n",
      " new \n",
      " word-level \n",
      " timestamps \n",
      " feature \n",
      " audio \n",
      " transcriptions \n",
      " now \n",
      " include \n",
      " the \n",
      " start \n",
      " and \n",
      " end \n",
      " timestamp \n",
      " for \n",
      " each \n",
      " word \n",
      " This \n",
      " opens \n",
      " up \n",
      " tons \n",
      " of \n",
      " possibilities \n",
      " developers \n",
      " can \n",
      " now \n",
      " skip \n",
      " to \n",
      " the \n",
      " exact \n",
      " moment \n",
      " in \n",
      " an \n",
      " audio \n",
      " file \n",
      " where \n",
      " a \n",
      " word \n",
      " was \n",
      " spoken \n",
      " , \n",
      " display \n",
      " the \n",
      " relevant \n",
      " text \n",
      " while \n",
      " audio \n",
      " is \n",
      " playing, \n",
      " or \n",
      " search \n",
      " a \n",
      " library \n",
      " of \n",
      " audio \n",
      " for \n",
      " a \n",
      " specific \n",
      " term\n"
     ],
     "output_type":"stream"
    }
   ],
   "metadata":{
    "datalore":{
     "node_id":"owcMr53GlmoynKqGmt4aRF",
     "type":"CODE",
     "hide_input_from_viewers":false,
     "hide_output_from_viewers":false
    }
   }
  },
  {
   "cell_type":"code",
   "source":[
    "#this function takes the collection of documents in a form of dictionary as an input\n",
    "def term_document_incidence_matrix(collection):\n",
    "    ## list of terms from the data file collection\n",
    "    terms = get_terms(collection)\n",
    "    #list of unique terms\n",
    "    uique_terms = get_unique_terms(terms)\n",
    "    #Document collection terms\n",
    "    docs_terms=get_document_collection_terms(collection)\n",
    "    #TermDocumentIncidenceMatrix\n",
    "    term_docs_matrix= { }\n",
    "    for term in uique_terms :\n",
    "        vector=[]\n",
    "        for c in docs_terms:\n",
    "            if term in docs_terms[c]:\n",
    "                vector.append(1)\n",
    "            else :\n",
    "                vector.append(0)\n",
    "\n",
    "        term_docs_matrix[term]=vector\n",
    "    return term_docs_matrix\n",
    "\n",
    "#this fucntion takes a term and a terms-document incidence matrix and returns the inc\n",
    "#this function just for explanation and display purposes\n",
    "def term_incidence_vector(term,term_docs_incid_matrix):\n",
    "    try:\n",
    "        return term_docs_incid_matrix[term]\n",
    "    except:\n",
    "        return \"term not found\"\n",
    "#build the term-document incidence matrix\n",
    "term_docs_incid_matrix=term_document_incidence_matrix(collection)\n",
    "print(\"Term-Document incidence Matrix\\n\")\n",
    "#formatted Display\n",
    "display_dict(term_docs_incid_matrix)"
   ],
   "execution_count":29,
   "outputs":[
    {
     "name":"stdout",
     "text":[
      "Term-Document incidence Matrix\n",
      "\n",
      "\n",
      "\n",
      "Last  :  [1, 0, 0, 0, 0]\n",
      "month  :  [1, 0, 0, 0, 0]\n",
      "Cloud  :  [1, 0, 0, 0, 0]\n",
      "Speech  :  [1, 0, 0, 0, 0]\n",
      "introduced  :  [1, 0, 0, 0, 0]\n",
      "a  :  [1, 0, 0, 1, 1]\n",
      "new  :  [1, 0, 0, 0, 0]\n",
      "word-level  :  [1, 0, 0, 0, 0]\n",
      "timestamps  :  [1, 0, 0, 0, 0]\n",
      "feature  :  [1, 0, 0, 0, 0]\n",
      "audio  :  [0, 1, 0, 1, 1]\n",
      "transcriptions  :  [0, 1, 0, 0, 0]\n",
      "now  :  [0, 1, 0, 1, 0]\n",
      "include  :  [0, 1, 0, 0, 0]\n",
      "the  :  [0, 1, 0, 1, 1]\n",
      "start  :  [0, 1, 0, 0, 0]\n",
      "and  :  [0, 1, 0, 0, 0]\n",
      "end  :  [0, 1, 0, 0, 0]\n",
      "timestamp  :  [0, 1, 0, 0, 0]\n",
      "for  :  [0, 1, 0, 0, 1]\n",
      "each  :  [0, 1, 0, 0, 0]\n",
      "word  :  [0, 1, 0, 1, 0]\n",
      "This  :  [0, 0, 1, 0, 0]\n",
      "opens  :  [0, 0, 1, 0, 0]\n",
      "up  :  [0, 0, 1, 0, 0]\n",
      "tons  :  [0, 0, 1, 0, 0]\n",
      "of  :  [0, 0, 1, 0, 1]\n",
      "possibilities  :  [0, 0, 1, 0, 0]\n",
      "developers  :  [0, 0, 0, 1, 0]\n",
      "can  :  [0, 0, 0, 1, 0]\n",
      "skip  :  [0, 0, 0, 1, 0]\n",
      "to  :  [0, 0, 0, 1, 0]\n",
      "exact  :  [0, 0, 0, 1, 0]\n",
      "moment  :  [0, 0, 0, 1, 0]\n",
      "in  :  [0, 0, 0, 1, 0]\n",
      "an  :  [0, 0, 0, 1, 0]\n",
      "file  :  [0, 0, 0, 1, 0]\n",
      "where  :  [0, 0, 0, 1, 0]\n",
      "was  :  [0, 0, 0, 1, 0]\n",
      "spoken  :  [0, 0, 0, 1, 0]\n",
      ",  :  [0, 0, 0, 0, 1]\n",
      "display  :  [0, 0, 0, 0, 1]\n",
      "relevant  :  [0, 0, 0, 0, 1]\n",
      "text  :  [0, 0, 0, 0, 1]\n",
      "while  :  [0, 0, 0, 0, 1]\n",
      "is  :  [0, 0, 0, 0, 1]\n",
      "playing,  :  [0, 0, 0, 0, 1]\n",
      "or  :  [0, 0, 0, 0, 1]\n",
      "search  :  [0, 0, 0, 0, 1]\n",
      "library  :  [0, 0, 0, 0, 1]\n",
      "specific  :  [0, 0, 0, 0, 1]\n",
      "term  :  [0, 0, 0, 0, 1]\n",
      "\n",
      "\n"
     ],
     "output_type":"stream"
    }
   ],
   "metadata":{
    "datalore":{
     "node_id":"0b8ezJF84QSP2pwoDNUKbK",
     "type":"CODE",
     "hide_input_from_viewers":false,
     "hide_output_from_viewers":false
    }
   }
  },
  {
   "cell_type":"code",
   "source":[
    "#Query Filteration\n",
    "#input : Query\n",
    "#output : List of terms of a given query which match with the terms in our collection\n",
    "def query_filteration(query,collection):\n",
    "    terms= get_terms(collection)\n",
    "    unique_terms=get_unique_terms(terms)\n",
    "    qterms=[]\n",
    "    splitted_query=query.split()\n",
    "    for qterm in splitted_query:\n",
    "        if qterm in unique_terms or qterm in boolean_operators:\n",
    "            qterms.append(qterm)\n",
    "    return qterms"
   ],
   "execution_count":30,
   "outputs":[
    
   ],
   "metadata":{
    "datalore":{
     "node_id":"Bt88I5urM9FImGrIcfnhDX",
     "type":"CODE",
     "hide_input_from_viewers":false,
     "hide_output_from_viewers":false
    }
   }
  },
  {
   "cell_type":"code",
   "source":[
    "#Boolean Operator Processing\n",
    "# input : Boolean Operator ,Next term Incedence Vector ,Previous term Incedence Vecto\n",
    "def boolean_operator_processing(bool_operator,prevV,nextV):\n",
    "    if bool_operator == \"AND\":\n",
    "       return [a & b for a, b in zip(prevV, nextV)]\n",
    "    elif bool_operator==\"OR\" :\n",
    "        return [a | b for a, b in zip(prevV, nextV)]\n",
    "    elif bool_operator == \"NOT\":\n",
    "        return [1-a for a in prevV]"
   ],
   "execution_count":31,
   "outputs":[
    
   ],
   "metadata":{
    "datalore":{
     "node_id":"ogO4UtxjTryzaJiaVBDJUi",
     "type":"CODE",
     "hide_input_from_viewers":false,
     "hide_output_from_viewers":false
    }
   }
  },
  {
   "cell_type":"code",
   "source":[
    "# Boolean retrieval function\n",
    "# input : Query\n",
    "def boolean_retrieval(query,collection):\n",
    "    #build a terms_documents incidence matrix\n",
    "    term_docs_incid_matrix=term_document_incidence_matrix(collection)\n",
    "    bitwiseop=\"\"\n",
    "    #get the query terms\n",
    "    qterms=query_filteration(query,collection)\n",
    "    result=[]\n",
    "    result_set={}\n",
    "    has_previous_term=False\n",
    "    has_not_operation=False\n",
    "    inc_vec_prev=[]\n",
    "    inc_vec_next=[]\n",
    "    for term in qterms :\n",
    "        if term not in boolean_operators:\n",
    "            if has_not_operation:\n",
    "                if has_previous_term:\n",
    "                    inc_vec_next=boolean_operator_processing(\"NOT\",term_docs_incid_matrix[term],inc_vec_next)\n",
    "                else :\n",
    "                    inc_vec_prev=boolean_operator_processing(\"NOT\",term_docs_incid_matrix[term],inc_vec_next)\n",
    "                    result=inc_vec_prev\n",
    "                has_not_operation=False\n",
    "            elif has_previous_term:\n",
    "                inc_vec_next=term_docs_incid_matrix[term]\n",
    "            else :\n",
    "                inc_vec_prev=term_docs_incid_matrix[term]\n",
    "                result= inc_vec_prev\n",
    "                has_previous_term=True\n",
    "\n",
    "        elif term==\"NOT\":\n",
    "          has_not_operation=True\n",
    "        else :\n",
    "          bitwiseop=term\n",
    "        if len(inc_vec_next)!= 0 :\n",
    "            result = boolean_operator_processing(bitwiseop,inc_vec_prev,inc_vec_next)\n",
    "            inc_vec_prev=result\n",
    "            has_previous_term=True\n",
    "            inc_vec_next= []\n",
    "    for i,doc in zip(result,collection):\n",
    "      result_set[doc]=i\n",
    "    return result_set"
   ],
   "execution_count":32,
   "outputs":[
    
   ],
   "metadata":{
    "datalore":{
     "node_id":"J8gyqfv7FA2hAybQWbd0M1",
     "type":"CODE",
     "hide_input_from_viewers":false,
     "hide_output_from_viewers":false
    }
   }
  },
  {
   "cell_type":"code",
   "source":[
    "query1 = \"Cloud OR timestamp OR audio\"\n",
    "print(\"query1 boolean retrieval \",boolean_retrieval(query2,collection))"
   ],
   "execution_count":38,
   "outputs":[
    {
     "name":"stdout",
     "text":[
      "query1 boolean retrieval  {'doc0': 0, 'doc1': 0, 'doc2': 0, 'doc3': 0, 'doc4': 1}\n"
     ],
     "output_type":"stream"
    }
   ],
   "metadata":{
    "datalore":{
     "node_id":"ZGEGcp5ZT96ViVCrG4pxdx",
     "type":"CODE",
     "hide_input_from_viewers":false,
     "hide_output_from_viewers":false
    }
   }
  },
  {
   "cell_type":"code",
   "source":[
    "query2 = \"audio AND term\"\n",
    "print(\"query2 boolean retrieval \",boolean_retrieval(query2,collection))"
   ],
   "execution_count":36,
   "outputs":[
    {
     "name":"stdout",
     "text":[
      "query2 boolean retrieval  {'doc0': 0, 'doc1': 0, 'doc2': 0, 'doc3': 0, 'doc4': 1}\n"
     ],
     "output_type":"stream"
    }
   ],
   "metadata":{
    "datalore":{
     "node_id":"XMFJhlw7fFRNNI3VwUlUX4",
     "type":"CODE",
     "hide_input_from_viewers":false,
     "hide_output_from_viewers":false
    }
   }
  },
  {
   "cell_type":"code",
   "source":[
    "query3 = \"Cloud AND NOT audio\"\n",
    "print(\"query3 boolean retrieval \",boolean_retrieval(query2,collection))"
   ],
   "execution_count":35,
   "outputs":[
    {
     "name":"stdout",
     "text":[
      "query3 boolean retrieval  {'doc0': 0, 'doc1': 0, 'doc2': 0, 'doc3': 0, 'doc4': 1}\n"
     ],
     "output_type":"stream"
    }
   ],
   "metadata":{
    "datalore":{
     "node_id":"8mfRmned2VosFhzG98LLHd",
     "type":"CODE",
     "hide_input_from_viewers":false,
     "hide_output_from_viewers":false
    }
   }
  }
 ],
 "metadata":{
  "kernelspec":{
   "display_name":"Python",
   "language":"python",
   "name":"python"
  },
  "datalore":{
   "version":1,
   "computation_mode":"JUPYTER",
   "package_manager":"pip",
   "base_environment":"default",
   "packages":[
    
   ]
  }
 },
 "nbformat":4,
 "nbformat_minor":4
}